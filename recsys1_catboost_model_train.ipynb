{
 "cells": [
  {
   "cell_type": "code",
   "execution_count": 2,
   "id": "e492e9f2-aa92-436d-a7aa-2cdfaf2f5e09",
   "metadata": {},
   "outputs": [],
   "source": [
    "import numpy as np\n",
    "import pandas as pd\n",
    "import time\n",
    "\n",
    "conn = \"postgresql://jfghdjfkghjkdfg:skdjfhdskfhj@\" # данные изменены\n",
    "uri = \"postgres.dfkjfksjhfgd:6432/dsfs\" # данные изменены\n",
    "conn_uri = conn + uri"
   ]
  },
  {
   "cell_type": "markdown",
   "id": "7b7615a1-5919-44bf-811d-9262a1899516",
   "metadata": {},
   "source": [
    "# RecSys Контентный подход"
   ]
  },
  {
   "cell_type": "markdown",
   "id": "aff3035b-f1c6-46d7-a751-55477e031ba8",
   "metadata": {},
   "source": [
    "### Загрузка данных"
   ]
  },
  {
   "cell_type": "code",
   "execution_count": 3,
   "id": "4313afc9-36c7-4d60-a783-b8d0f6527198",
   "metadata": {
    "tags": []
   },
   "outputs": [],
   "source": [
    "df_users = pd.read_sql(\"SELECT * FROM user_data\", conn_uri)"
   ]
  },
  {
   "cell_type": "code",
   "execution_count": 4,
   "id": "971ebc6d-02ea-46a5-9fc3-8898cd0e73da",
   "metadata": {},
   "outputs": [
    {
     "data": {
      "text/html": [
       "<div>\n",
       "<style scoped>\n",
       "    .dataframe tbody tr th:only-of-type {\n",
       "        vertical-align: middle;\n",
       "    }\n",
       "\n",
       "    .dataframe tbody tr th {\n",
       "        vertical-align: top;\n",
       "    }\n",
       "\n",
       "    .dataframe thead th {\n",
       "        text-align: right;\n",
       "    }\n",
       "</style>\n",
       "<table border=\"1\" class=\"dataframe\">\n",
       "  <thead>\n",
       "    <tr style=\"text-align: right;\">\n",
       "      <th></th>\n",
       "      <th>user_id</th>\n",
       "      <th>gender</th>\n",
       "      <th>age</th>\n",
       "      <th>country</th>\n",
       "      <th>city</th>\n",
       "      <th>exp_group</th>\n",
       "      <th>os</th>\n",
       "      <th>source</th>\n",
       "    </tr>\n",
       "  </thead>\n",
       "  <tbody>\n",
       "    <tr>\n",
       "      <th>0</th>\n",
       "      <td>200</td>\n",
       "      <td>1</td>\n",
       "      <td>34</td>\n",
       "      <td>Russia</td>\n",
       "      <td>Degtyarsk</td>\n",
       "      <td>3</td>\n",
       "      <td>Android</td>\n",
       "      <td>ads</td>\n",
       "    </tr>\n",
       "    <tr>\n",
       "      <th>1</th>\n",
       "      <td>201</td>\n",
       "      <td>0</td>\n",
       "      <td>37</td>\n",
       "      <td>Russia</td>\n",
       "      <td>Abakan</td>\n",
       "      <td>0</td>\n",
       "      <td>Android</td>\n",
       "      <td>ads</td>\n",
       "    </tr>\n",
       "  </tbody>\n",
       "</table>\n",
       "</div>"
      ],
      "text/plain": [
       "   user_id  gender  age country       city  exp_group       os source\n",
       "0      200       1   34  Russia  Degtyarsk          3  Android    ads\n",
       "1      201       0   37  Russia     Abakan          0  Android    ads"
      ]
     },
     "execution_count": 4,
     "metadata": {},
     "output_type": "execute_result"
    }
   ],
   "source": [
    "df_users.head(2)"
   ]
  },
  {
   "cell_type": "code",
   "execution_count": 5,
   "id": "cc9ad810-a467-4d18-8c8a-53e333d8c08b",
   "metadata": {},
   "outputs": [],
   "source": [
    "df_posts = pd.read_sql(\"SELECT * FROM post_text_df\", conn_uri)"
   ]
  },
  {
   "cell_type": "code",
   "execution_count": 6,
   "id": "462e445c-9c74-47c6-a0e6-34624e224342",
   "metadata": {},
   "outputs": [
    {
     "data": {
      "text/html": [
       "<div>\n",
       "<style scoped>\n",
       "    .dataframe tbody tr th:only-of-type {\n",
       "        vertical-align: middle;\n",
       "    }\n",
       "\n",
       "    .dataframe tbody tr th {\n",
       "        vertical-align: top;\n",
       "    }\n",
       "\n",
       "    .dataframe thead th {\n",
       "        text-align: right;\n",
       "    }\n",
       "</style>\n",
       "<table border=\"1\" class=\"dataframe\">\n",
       "  <thead>\n",
       "    <tr style=\"text-align: right;\">\n",
       "      <th></th>\n",
       "      <th>post_id</th>\n",
       "      <th>text</th>\n",
       "      <th>topic</th>\n",
       "    </tr>\n",
       "  </thead>\n",
       "  <tbody>\n",
       "    <tr>\n",
       "      <th>0</th>\n",
       "      <td>1</td>\n",
       "      <td>UK economy facing major risks\\n\\nThe UK manufa...</td>\n",
       "      <td>business</td>\n",
       "    </tr>\n",
       "    <tr>\n",
       "      <th>1</th>\n",
       "      <td>2</td>\n",
       "      <td>Aids and climate top Davos agenda\\n\\nClimate c...</td>\n",
       "      <td>business</td>\n",
       "    </tr>\n",
       "  </tbody>\n",
       "</table>\n",
       "</div>"
      ],
      "text/plain": [
       "   post_id                                               text     topic\n",
       "0        1  UK economy facing major risks\\n\\nThe UK manufa...  business\n",
       "1        2  Aids and climate top Davos agenda\\n\\nClimate c...  business"
      ]
     },
     "execution_count": 6,
     "metadata": {},
     "output_type": "execute_result"
    }
   ],
   "source": [
    "df_posts.head(2)"
   ]
  },
  {
   "cell_type": "code",
   "execution_count": 7,
   "id": "d8985f83-8736-4759-b6b6-408b8e90fa0e",
   "metadata": {},
   "outputs": [],
   "source": [
    "from sklearn.feature_extraction.text import TfidfVectorizer\n",
    "from sklearn.decomposition import TruncatedSVD\n",
    "\n",
    "# Преобразование текста в признаки с использованием TF-IDF\n",
    "vectorizer = TfidfVectorizer(max_features=500)\n",
    "txt_tfidf = vectorizer.fit_transform(df_posts['text'])\n",
    "\n",
    "# Понижение размерности при помощи TruncatedSVD\n",
    "# svd = TruncatedSVD(n_components=10, random_state=42) # kernel died\n",
    "svd = TruncatedSVD(n_components=5, random_state=42)\n",
    "txt_tfidf_svd = svd.fit_transform(txt_tfidf)"
   ]
  },
  {
   "cell_type": "code",
   "execution_count": 8,
   "id": "f94ddf69-b99f-4d3e-a76a-7198655890e6",
   "metadata": {},
   "outputs": [
    {
     "data": {
      "text/plain": [
       "array([0.6643565 , 0.68032537, 0.71740028, ..., 0.44740764, 0.57517416,\n",
       "       0.50729007])"
      ]
     },
     "execution_count": 8,
     "metadata": {},
     "output_type": "execute_result"
    }
   ],
   "source": [
    "# проверяем проверяем структуру признаков\n",
    "txt_tfidf_svd[:,0]"
   ]
  },
  {
   "cell_type": "code",
   "execution_count": 9,
   "id": "bb26c5d7-5604-45f3-99d5-c124bda33224",
   "metadata": {},
   "outputs": [],
   "source": [
    "# Добавляем новые признаки к исходному датасету\n",
    "for i in range(5):\n",
    "    new_col = 'idf_svd' + str(i)\n",
    "    df_posts[new_col] = txt_tfidf_svd[:,i]"
   ]
  },
  {
   "cell_type": "code",
   "execution_count": 10,
   "id": "e60e213b-e48a-4389-8593-0dd331385a00",
   "metadata": {},
   "outputs": [
    {
     "data": {
      "text/html": [
       "<div>\n",
       "<style scoped>\n",
       "    .dataframe tbody tr th:only-of-type {\n",
       "        vertical-align: middle;\n",
       "    }\n",
       "\n",
       "    .dataframe tbody tr th {\n",
       "        vertical-align: top;\n",
       "    }\n",
       "\n",
       "    .dataframe thead th {\n",
       "        text-align: right;\n",
       "    }\n",
       "</style>\n",
       "<table border=\"1\" class=\"dataframe\">\n",
       "  <thead>\n",
       "    <tr style=\"text-align: right;\">\n",
       "      <th></th>\n",
       "      <th>post_id</th>\n",
       "      <th>text</th>\n",
       "      <th>topic</th>\n",
       "      <th>idf_svd0</th>\n",
       "      <th>idf_svd1</th>\n",
       "      <th>idf_svd2</th>\n",
       "      <th>idf_svd3</th>\n",
       "      <th>idf_svd4</th>\n",
       "    </tr>\n",
       "  </thead>\n",
       "  <tbody>\n",
       "    <tr>\n",
       "      <th>0</th>\n",
       "      <td>1</td>\n",
       "      <td>UK economy facing major risks\\n\\nThe UK manufa...</td>\n",
       "      <td>business</td>\n",
       "      <td>0.664357</td>\n",
       "      <td>-0.059180</td>\n",
       "      <td>-0.290901</td>\n",
       "      <td>0.113198</td>\n",
       "      <td>-0.028977</td>\n",
       "    </tr>\n",
       "    <tr>\n",
       "      <th>1</th>\n",
       "      <td>2</td>\n",
       "      <td>Aids and climate top Davos agenda\\n\\nClimate c...</td>\n",
       "      <td>business</td>\n",
       "      <td>0.680325</td>\n",
       "      <td>-0.041336</td>\n",
       "      <td>-0.306858</td>\n",
       "      <td>-0.006451</td>\n",
       "      <td>-0.005135</td>\n",
       "    </tr>\n",
       "  </tbody>\n",
       "</table>\n",
       "</div>"
      ],
      "text/plain": [
       "   post_id                                               text     topic  \\\n",
       "0        1  UK economy facing major risks\\n\\nThe UK manufa...  business   \n",
       "1        2  Aids and climate top Davos agenda\\n\\nClimate c...  business   \n",
       "\n",
       "   idf_svd0  idf_svd1  idf_svd2  idf_svd3  idf_svd4  \n",
       "0  0.664357 -0.059180 -0.290901  0.113198 -0.028977  \n",
       "1  0.680325 -0.041336 -0.306858 -0.006451 -0.005135  "
      ]
     },
     "execution_count": 10,
     "metadata": {},
     "output_type": "execute_result"
    }
   ],
   "source": [
    "# Контроль\n",
    "df_posts.head(2)"
   ]
  },
  {
   "cell_type": "markdown",
   "id": "381836ee-1017-496e-b955-5e96a194680b",
   "metadata": {
    "tags": []
   },
   "source": [
    "### Загрузка/выгрузка постов с новыми признаками в базу данных"
   ]
  },
  {
   "cell_type": "code",
   "execution_count": 11,
   "id": "5485edbb-4fef-4197-9083-1558c1ae1a4a",
   "metadata": {},
   "outputs": [],
   "source": [
    "from sqlalchemy import create_engine\n",
    "\n",
    "# данные изменены\n",
    "engine = create_engine(\n",
    "    \"postgresql://jfghdjfkghjkdfg:skdjfhdskfhj@\"\n",
    "    \"postgres.dfkjfksjhfgd:6432/dsfs\"\n",
    ")"
   ]
  },
  {
   "cell_type": "code",
   "execution_count": 6,
   "id": "ce827ff6-29d5-480f-91af-1d417559ff6a",
   "metadata": {},
   "outputs": [],
   "source": [
    "# # # WARNING --- DROP TABLE !!!\n",
    "# Удаляем таблицу признаков при обновлении датасета\n",
    "\n",
    "# sql = 'DROP TABLE IF EXISTS table_idf_posts'\n",
    "# result = engine.execute(sql)\n",
    "# result"
   ]
  },
  {
   "cell_type": "code",
   "execution_count": 7,
   "id": "46a73d44-1ef7-443e-af86-3be7bedc583f",
   "metadata": {},
   "outputs": [],
   "source": [
    "# # # записываем таблицу признаков\n",
    "\n",
    "# df_posts.to_sql('table_idf_posts', con=engine)\n",
    "\n",
    "# # 1.45...1.53"
   ]
  },
  {
   "cell_type": "code",
   "execution_count": 13,
   "id": "74bb9e38-23d4-46ab-8b26-3a5fc62fa05d",
   "metadata": {},
   "outputs": [],
   "source": [
    "# считываем таблицу признаков table_idf_posts\n",
    "\n",
    "df_posts_from_sql = pd.read_sql('SELECT * FROM table_idf_posts',\n",
    "                 con=engine, index_col='index')\n",
    "\n",
    "# 0.4...0.8"
   ]
  },
  {
   "cell_type": "markdown",
   "id": "d2f29bfa-6992-4913-b423-873339cfd6c2",
   "metadata": {},
   "source": [
    "**кол-во реакций на 1 пользователя** (понадобится для приложения):"
   ]
  },
  {
   "cell_type": "code",
   "execution_count": 14,
   "id": "2092ce80-fffb-4251-b160-c59e12828f49",
   "metadata": {},
   "outputs": [],
   "source": [
    "query_text = '''SELECT user_id, count(*)\n",
    "                FROM feed_data\n",
    "                GROUP BY user_id'''"
   ]
  },
  {
   "cell_type": "code",
   "execution_count": 15,
   "id": "9d2b8862-9183-49ca-81e7-1ec1d256c3b2",
   "metadata": {},
   "outputs": [],
   "source": [
    "df_feeds_uids = pd.read_sql(query_text, conn_uri)"
   ]
  },
  {
   "cell_type": "code",
   "execution_count": 16,
   "id": "32658ab4-cb5a-4ba8-afd8-3255c44cc6e9",
   "metadata": {},
   "outputs": [
    {
     "data": {
      "text/html": [
       "<div>\n",
       "<style scoped>\n",
       "    .dataframe tbody tr th:only-of-type {\n",
       "        vertical-align: middle;\n",
       "    }\n",
       "\n",
       "    .dataframe tbody tr th {\n",
       "        vertical-align: top;\n",
       "    }\n",
       "\n",
       "    .dataframe thead th {\n",
       "        text-align: right;\n",
       "    }\n",
       "</style>\n",
       "<table border=\"1\" class=\"dataframe\">\n",
       "  <thead>\n",
       "    <tr style=\"text-align: right;\">\n",
       "      <th></th>\n",
       "      <th>user_id</th>\n",
       "      <th>count</th>\n",
       "    </tr>\n",
       "  </thead>\n",
       "  <tbody>\n",
       "    <tr>\n",
       "      <th>143449</th>\n",
       "      <td>148786</td>\n",
       "      <td>128</td>\n",
       "    </tr>\n",
       "  </tbody>\n",
       "</table>\n",
       "</div>"
      ],
      "text/plain": [
       "        user_id  count\n",
       "143449   148786    128"
      ]
     },
     "execution_count": 16,
     "metadata": {},
     "output_type": "execute_result"
    }
   ],
   "source": [
    "df_feeds_uids.sort_values('count').head(1)"
   ]
  },
  {
   "cell_type": "code",
   "execution_count": 17,
   "id": "cd56eaa1-cad3-4d14-81de-029f152e2391",
   "metadata": {},
   "outputs": [
    {
     "data": {
      "text/html": [
       "<div>\n",
       "<style scoped>\n",
       "    .dataframe tbody tr th:only-of-type {\n",
       "        vertical-align: middle;\n",
       "    }\n",
       "\n",
       "    .dataframe tbody tr th {\n",
       "        vertical-align: top;\n",
       "    }\n",
       "\n",
       "    .dataframe thead th {\n",
       "        text-align: right;\n",
       "    }\n",
       "</style>\n",
       "<table border=\"1\" class=\"dataframe\">\n",
       "  <thead>\n",
       "    <tr style=\"text-align: right;\">\n",
       "      <th></th>\n",
       "      <th>user_id</th>\n",
       "      <th>count</th>\n",
       "    </tr>\n",
       "  </thead>\n",
       "  <tbody>\n",
       "    <tr>\n",
       "      <th>89410</th>\n",
       "      <td>93426</td>\n",
       "      <td>970</td>\n",
       "    </tr>\n",
       "  </tbody>\n",
       "</table>\n",
       "</div>"
      ],
      "text/plain": [
       "       user_id  count\n",
       "89410    93426    970"
      ]
     },
     "execution_count": 17,
     "metadata": {},
     "output_type": "execute_result"
    }
   ],
   "source": [
    "df_feeds_uids.sort_values('count').tail(1)"
   ]
  },
  {
   "cell_type": "markdown",
   "id": "9d3316eb-9ef5-4438-8efa-eeedc8943bf3",
   "metadata": {},
   "source": [
    "**Таким образом реакций от 128 до 970 на пользователя**"
   ]
  },
  {
   "cell_type": "markdown",
   "id": "47670a8e-c4a8-40b1-877e-41f7782836db",
   "metadata": {},
   "source": [
    "Дальше необходимо загрузить данные из таблицы feed_data.\n",
    "Количество записей в таблице - около 77 млн."
   ]
  },
  {
   "cell_type": "code",
   "execution_count": 18,
   "id": "077d32af-57fe-42cc-8f69-7bf2143c0568",
   "metadata": {},
   "outputs": [
    {
     "data": {
      "text/html": [
       "<div>\n",
       "<style scoped>\n",
       "    .dataframe tbody tr th:only-of-type {\n",
       "        vertical-align: middle;\n",
       "    }\n",
       "\n",
       "    .dataframe tbody tr th {\n",
       "        vertical-align: top;\n",
       "    }\n",
       "\n",
       "    .dataframe thead th {\n",
       "        text-align: right;\n",
       "    }\n",
       "</style>\n",
       "<table border=\"1\" class=\"dataframe\">\n",
       "  <thead>\n",
       "    <tr style=\"text-align: right;\">\n",
       "      <th></th>\n",
       "      <th>count</th>\n",
       "    </tr>\n",
       "  </thead>\n",
       "  <tbody>\n",
       "    <tr>\n",
       "      <th>0</th>\n",
       "      <td>76892800</td>\n",
       "    </tr>\n",
       "  </tbody>\n",
       "</table>\n",
       "</div>"
      ],
      "text/plain": [
       "      count\n",
       "0  76892800"
      ]
     },
     "execution_count": 18,
     "metadata": {},
     "output_type": "execute_result"
    }
   ],
   "source": [
    "query_text = \"SELECT count(*) FROM feed_data\"\n",
    "df_feeds = pd.read_sql(query_text, conn_uri)\n",
    "df_feeds.head()"
   ]
  },
  {
   "cell_type": "markdown",
   "id": "69fe376c-8585-4976-97c7-8de6f2a3781a",
   "metadata": {
    "tags": []
   },
   "source": [
    "Имеется ограничение на объем доступной памяти, поэтому можем выгрузить только небольшую часть, не нарушающую ограничение, но достаточную для обучения модели.  \n",
    "P.S. Как выяснилось в ходе экспериментов, на качество обучения модели влиял не только размер (который был очень важен), но и способ выборки.\n",
    "\n",
    "Опыты показали, что даже подзапросы с использованием оконных функций для выбора всех пользователей с максимальным количеством их реакций и с искуственным балансом классов по реакциям получились не так эффективны для обучения модели, как выборка максимального количества абсолютно случайных записей."
   ]
  },
  {
   "cell_type": "code",
   "execution_count": 19,
   "id": "bc26d0e0-6f2c-4586-a767-995d082075dc",
   "metadata": {},
   "outputs": [],
   "source": [
    "# --- 3000000-5000000 - kernel died, 2000000 - frozen\n",
    "# Берем 1 500 000 СЛУЧАЙНЫХ записей\n",
    "query_text = '''SELECT user_id, post_id, target\n",
    "                FROM feed_data\n",
    "                ORDER BY random() LIMIT 1500000'''"
   ]
  },
  {
   "cell_type": "code",
   "execution_count": 20,
   "id": "f1e1294d-bf23-4e54-93ca-e9905c5d406d",
   "metadata": {},
   "outputs": [
    {
     "data": {
      "text/plain": [
       "111.88418340682983"
      ]
     },
     "execution_count": 20,
     "metadata": {},
     "output_type": "execute_result"
    }
   ],
   "source": [
    "start = time.time()\n",
    "\n",
    "df_feeds = pd.read_sql(query_text, conn_uri)\n",
    "\n",
    "time.time() - start\n",
    "\n",
    "# 138"
   ]
  },
  {
   "cell_type": "code",
   "execution_count": 21,
   "id": "f10feb4e-6c80-462b-8676-7f2e1204c782",
   "metadata": {},
   "outputs": [
    {
     "data": {
      "text/plain": [
       "Index(['user_id', 'post_id', 'target'], dtype='object')"
      ]
     },
     "execution_count": 21,
     "metadata": {},
     "output_type": "execute_result"
    }
   ],
   "source": [
    "df_feeds.columns"
   ]
  },
  {
   "cell_type": "code",
   "execution_count": 22,
   "id": "40d27fce-f56d-488b-95bc-4461f9a40f13",
   "metadata": {},
   "outputs": [
    {
     "data": {
      "text/plain": [
       "(1500000, 3)"
      ]
     },
     "execution_count": 22,
     "metadata": {},
     "output_type": "execute_result"
    }
   ],
   "source": [
    "df_feeds.shape"
   ]
  },
  {
   "cell_type": "markdown",
   "id": "b8708f4a-ed23-482d-afc2-a3e41128cfc6",
   "metadata": {},
   "source": [
    "**Баланс классов в target**:"
   ]
  },
  {
   "cell_type": "code",
   "execution_count": 23,
   "id": "d00487ed-2c26-428b-ac2b-e0cef6cc6c60",
   "metadata": {},
   "outputs": [
    {
     "data": {
      "text/plain": [
       "0    1340196\n",
       "1     159804\n",
       "Name: target, dtype: int64"
      ]
     },
     "execution_count": 23,
     "metadata": {},
     "output_type": "execute_result"
    }
   ],
   "source": [
    "df_feeds.target.value_counts()\n",
    "\n",
    "# 0    1339144 -- 15e5 fds -- w/o balanse\n",
    "# 1     160856"
   ]
  },
  {
   "cell_type": "markdown",
   "id": "c58b964b-a6c4-43a7-acf2-8c6f24744229",
   "metadata": {},
   "source": [
    "### Общая статистика"
   ]
  },
  {
   "cell_type": "markdown",
   "id": "03d4ce9c-ba85-4125-8c95-917c9cc18d7d",
   "metadata": {},
   "source": [
    "**users**"
   ]
  },
  {
   "cell_type": "code",
   "execution_count": 16,
   "id": "59d8943e-08a8-42e9-af56-673d3e48d64b",
   "metadata": {},
   "outputs": [],
   "source": [
    "# df_users.info()\n",
    "\n",
    "# user_id      163205\n",
    "# gender            2\n",
    "# age              76\n",
    "# country          11 # cat\n",
    "# city           3915 # cat\n",
    "# exp_group         5\n",
    "# os                2 # ohe # cat\n",
    "# source            2 # ohe # cat\n",
    "# dtype: int64"
   ]
  },
  {
   "cell_type": "markdown",
   "id": "fac4745f-acde-4a30-9d99-7b453b80766a",
   "metadata": {},
   "source": [
    "### posts"
   ]
  },
  {
   "cell_type": "code",
   "execution_count": 34,
   "id": "b85ad10c-e914-421f-9532-642e408f5731",
   "metadata": {},
   "outputs": [],
   "source": [
    "# df_posts.nunique()\n",
    "\n",
    "# post_id    7023\n",
    "# text       6924 # cat\n",
    "# topic         7 # cat\n",
    "# dtype: int64"
   ]
  },
  {
   "cell_type": "code",
   "execution_count": 24,
   "id": "d1b54d45-1e92-4351-b994-daf99c29ee93",
   "metadata": {},
   "outputs": [
    {
     "data": {
      "text/html": [
       "<div>\n",
       "<style scoped>\n",
       "    .dataframe tbody tr th:only-of-type {\n",
       "        vertical-align: middle;\n",
       "    }\n",
       "\n",
       "    .dataframe tbody tr th {\n",
       "        vertical-align: top;\n",
       "    }\n",
       "\n",
       "    .dataframe thead tr th {\n",
       "        text-align: left;\n",
       "    }\n",
       "</style>\n",
       "<table border=\"1\" class=\"dataframe\">\n",
       "  <thead>\n",
       "    <tr>\n",
       "      <th></th>\n",
       "      <th>topic</th>\n",
       "      <th>post_id</th>\n",
       "    </tr>\n",
       "    <tr>\n",
       "      <th></th>\n",
       "      <th></th>\n",
       "      <th>count</th>\n",
       "    </tr>\n",
       "  </thead>\n",
       "  <tbody>\n",
       "    <tr>\n",
       "      <th>0</th>\n",
       "      <td>business</td>\n",
       "      <td>510</td>\n",
       "    </tr>\n",
       "    <tr>\n",
       "      <th>1</th>\n",
       "      <td>covid</td>\n",
       "      <td>1799</td>\n",
       "    </tr>\n",
       "    <tr>\n",
       "      <th>2</th>\n",
       "      <td>entertainment</td>\n",
       "      <td>386</td>\n",
       "    </tr>\n",
       "    <tr>\n",
       "      <th>3</th>\n",
       "      <td>movie</td>\n",
       "      <td>3000</td>\n",
       "    </tr>\n",
       "    <tr>\n",
       "      <th>4</th>\n",
       "      <td>politics</td>\n",
       "      <td>417</td>\n",
       "    </tr>\n",
       "    <tr>\n",
       "      <th>5</th>\n",
       "      <td>sport</td>\n",
       "      <td>510</td>\n",
       "    </tr>\n",
       "    <tr>\n",
       "      <th>6</th>\n",
       "      <td>tech</td>\n",
       "      <td>401</td>\n",
       "    </tr>\n",
       "  </tbody>\n",
       "</table>\n",
       "</div>"
      ],
      "text/plain": [
       "           topic post_id\n",
       "                   count\n",
       "0       business     510\n",
       "1          covid    1799\n",
       "2  entertainment     386\n",
       "3          movie    3000\n",
       "4       politics     417\n",
       "5          sport     510\n",
       "6           tech     401"
      ]
     },
     "execution_count": 24,
     "metadata": {},
     "output_type": "execute_result"
    }
   ],
   "source": [
    "# # кол-во постов по темам (понадобится для оптимизации логики приложения)\n",
    "df_posts.groupby('topic').agg({'post_id': ['count']}).reset_index()"
   ]
  },
  {
   "cell_type": "markdown",
   "id": "cb537f4b-2305-4ca1-97e7-30c903cbd4b4",
   "metadata": {},
   "source": [
    "### feeds"
   ]
  },
  {
   "cell_type": "code",
   "execution_count": 25,
   "id": "87250cfa-6d57-4107-a6b2-722e0dce50e1",
   "metadata": {},
   "outputs": [
    {
     "data": {
      "text/plain": [
       "user_id    162475\n",
       "post_id      6831\n",
       "target          2\n",
       "dtype: int64"
      ]
     },
     "execution_count": 25,
     "metadata": {},
     "output_type": "execute_result"
    }
   ],
   "source": [
    "df_feeds.nunique()"
   ]
  },
  {
   "cell_type": "markdown",
   "id": "c06e7442-1c59-449b-9f75-9bb2d774524e",
   "metadata": {},
   "source": [
    "Случайной выборкой получили бОльшую часть юзеров и постов."
   ]
  },
  {
   "cell_type": "code",
   "execution_count": 26,
   "id": "82f0f0aa-9f6e-499e-81c5-cd12bebca229",
   "metadata": {},
   "outputs": [
    {
     "data": {
      "text/plain": [
       "0"
      ]
     },
     "execution_count": 26,
     "metadata": {},
     "output_type": "execute_result"
    }
   ],
   "source": [
    "# проверка на пропуски\n",
    "df_feeds.isnull().sum().sum()"
   ]
  },
  {
   "cell_type": "markdown",
   "id": "fc062e49-00d4-4960-944e-06e4988e7b56",
   "metadata": {},
   "source": [
    "# Собираем в 1 фрейм"
   ]
  },
  {
   "cell_type": "code",
   "execution_count": 27,
   "id": "aef473d3-6097-4e07-97e7-0c7ec63bb61b",
   "metadata": {},
   "outputs": [],
   "source": [
    "# WARNING: с полем text общий фрейм не проходит ограничение по памяти\n",
    "\n",
    "df = pd.merge(df_feeds, df_posts.drop('text', axis=1),\n",
    "              left_on='post_id', right_on='post_id')"
   ]
  },
  {
   "cell_type": "code",
   "execution_count": 28,
   "id": "7444ef11-ff4d-4eeb-a4a4-0723a05f02df",
   "metadata": {
    "tags": []
   },
   "outputs": [],
   "source": [
    "df = pd.merge(df, df_users, left_on='user_id',\n",
    "              right_on='user_id')"
   ]
  },
  {
   "cell_type": "code",
   "execution_count": 29,
   "id": "3a3d40e7-16ea-46c0-9723-f848df3554c3",
   "metadata": {},
   "outputs": [
    {
     "data": {
      "text/html": [
       "<div>\n",
       "<style scoped>\n",
       "    .dataframe tbody tr th:only-of-type {\n",
       "        vertical-align: middle;\n",
       "    }\n",
       "\n",
       "    .dataframe tbody tr th {\n",
       "        vertical-align: top;\n",
       "    }\n",
       "\n",
       "    .dataframe thead th {\n",
       "        text-align: right;\n",
       "    }\n",
       "</style>\n",
       "<table border=\"1\" class=\"dataframe\">\n",
       "  <thead>\n",
       "    <tr style=\"text-align: right;\">\n",
       "      <th></th>\n",
       "      <th>user_id</th>\n",
       "      <th>post_id</th>\n",
       "      <th>target</th>\n",
       "      <th>topic</th>\n",
       "      <th>idf_svd0</th>\n",
       "      <th>idf_svd1</th>\n",
       "      <th>idf_svd2</th>\n",
       "      <th>idf_svd3</th>\n",
       "      <th>idf_svd4</th>\n",
       "      <th>gender</th>\n",
       "      <th>age</th>\n",
       "      <th>country</th>\n",
       "      <th>city</th>\n",
       "      <th>exp_group</th>\n",
       "      <th>os</th>\n",
       "      <th>source</th>\n",
       "    </tr>\n",
       "  </thead>\n",
       "  <tbody>\n",
       "    <tr>\n",
       "      <th>0</th>\n",
       "      <td>119134</td>\n",
       "      <td>5730</td>\n",
       "      <td>0</td>\n",
       "      <td>movie</td>\n",
       "      <td>0.535399</td>\n",
       "      <td>-0.052456</td>\n",
       "      <td>0.107855</td>\n",
       "      <td>-0.167386</td>\n",
       "      <td>0.043518</td>\n",
       "      <td>0</td>\n",
       "      <td>22</td>\n",
       "      <td>Finland</td>\n",
       "      <td>Mikkeli</td>\n",
       "      <td>4</td>\n",
       "      <td>iOS</td>\n",
       "      <td>organic</td>\n",
       "    </tr>\n",
       "    <tr>\n",
       "      <th>1</th>\n",
       "      <td>119134</td>\n",
       "      <td>6630</td>\n",
       "      <td>0</td>\n",
       "      <td>movie</td>\n",
       "      <td>0.394182</td>\n",
       "      <td>-0.049298</td>\n",
       "      <td>0.297815</td>\n",
       "      <td>-0.206414</td>\n",
       "      <td>0.057301</td>\n",
       "      <td>0</td>\n",
       "      <td>22</td>\n",
       "      <td>Finland</td>\n",
       "      <td>Mikkeli</td>\n",
       "      <td>4</td>\n",
       "      <td>iOS</td>\n",
       "      <td>organic</td>\n",
       "    </tr>\n",
       "  </tbody>\n",
       "</table>\n",
       "</div>"
      ],
      "text/plain": [
       "   user_id  post_id  target  topic  idf_svd0  idf_svd1  idf_svd2  idf_svd3  \\\n",
       "0   119134     5730       0  movie  0.535399 -0.052456  0.107855 -0.167386   \n",
       "1   119134     6630       0  movie  0.394182 -0.049298  0.297815 -0.206414   \n",
       "\n",
       "   idf_svd4  gender  age  country     city  exp_group   os   source  \n",
       "0  0.043518       0   22  Finland  Mikkeli          4  iOS  organic  \n",
       "1  0.057301       0   22  Finland  Mikkeli          4  iOS  organic  "
      ]
     },
     "execution_count": 29,
     "metadata": {},
     "output_type": "execute_result"
    }
   ],
   "source": [
    "df.head(2)"
   ]
  },
  {
   "cell_type": "code",
   "execution_count": 30,
   "id": "35dba225-3483-44a1-a9f3-bc277d73c9e2",
   "metadata": {},
   "outputs": [
    {
     "data": {
      "text/plain": [
       "(1500000, 16)"
      ]
     },
     "execution_count": 30,
     "metadata": {},
     "output_type": "execute_result"
    }
   ],
   "source": [
    "df.shape"
   ]
  },
  {
   "cell_type": "code",
   "execution_count": 31,
   "id": "78dfe1c0-a1fd-4fbb-af46-0fbc4b2f1567",
   "metadata": {},
   "outputs": [
    {
     "data": {
      "text/plain": [
       "0"
      ]
     },
     "execution_count": 31,
     "metadata": {},
     "output_type": "execute_result"
    }
   ],
   "source": [
    "# проверка на пропуски\n",
    "df.isnull().sum().sum()"
   ]
  },
  {
   "cell_type": "code",
   "execution_count": 32,
   "id": "90601261-e7f0-41bf-9cb8-9651b04f395d",
   "metadata": {},
   "outputs": [
    {
     "name": "stdout",
     "output_type": "stream",
     "text": [
      "<class 'pandas.core.frame.DataFrame'>\n",
      "Int64Index: 1500000 entries, 0 to 1499999\n",
      "Data columns (total 16 columns):\n",
      " #   Column     Non-Null Count    Dtype  \n",
      "---  ------     --------------    -----  \n",
      " 0   user_id    1500000 non-null  int64  \n",
      " 1   post_id    1500000 non-null  int64  \n",
      " 2   target     1500000 non-null  int64  \n",
      " 3   topic      1500000 non-null  object \n",
      " 4   idf_svd0   1500000 non-null  float64\n",
      " 5   idf_svd1   1500000 non-null  float64\n",
      " 6   idf_svd2   1500000 non-null  float64\n",
      " 7   idf_svd3   1500000 non-null  float64\n",
      " 8   idf_svd4   1500000 non-null  float64\n",
      " 9   gender     1500000 non-null  int64  \n",
      " 10  age        1500000 non-null  int64  \n",
      " 11  country    1500000 non-null  object \n",
      " 12  city       1500000 non-null  object \n",
      " 13  exp_group  1500000 non-null  int64  \n",
      " 14  os         1500000 non-null  object \n",
      " 15  source     1500000 non-null  object \n",
      "dtypes: float64(5), int64(6), object(5)\n",
      "memory usage: 194.5+ MB\n"
     ]
    }
   ],
   "source": [
    "# Смотрим типы данных для категоризации признаков\n",
    "df.info()"
   ]
  },
  {
   "cell_type": "code",
   "execution_count": 33,
   "id": "fb53ee61-7c46-4461-bde4-df629e63b79a",
   "metadata": {},
   "outputs": [
    {
     "data": {
      "text/plain": [
       "user_id      162475\n",
       "post_id        6831\n",
       "target            2\n",
       "topic             7\n",
       "idf_svd0       6634\n",
       "idf_svd1       6634\n",
       "idf_svd2       6634\n",
       "idf_svd3       6634\n",
       "idf_svd4       6634\n",
       "gender            2\n",
       "age              76\n",
       "country          11\n",
       "city           3911\n",
       "exp_group         5\n",
       "os                2\n",
       "source            2\n",
       "dtype: int64"
      ]
     },
     "execution_count": 33,
     "metadata": {},
     "output_type": "execute_result"
    }
   ],
   "source": [
    "df.nunique()"
   ]
  },
  {
   "cell_type": "code",
   "execution_count": 29,
   "id": "53c68c95-71ce-4d5d-be7e-832fb0611fcc",
   "metadata": {},
   "outputs": [],
   "source": [
    "# country      11 # cat\n",
    "# city       3915 # cat\n",
    "# os            2 # ohe # cat\n",
    "# source        2 # ohe # cat\n",
    "# topic         7 # ohe # cat"
   ]
  },
  {
   "cell_type": "markdown",
   "id": "d4a4a62b-c388-4c67-b2d8-0a62891183e3",
   "metadata": {
    "tags": []
   },
   "source": [
    "### Тренируем модель"
   ]
  },
  {
   "cell_type": "code",
   "execution_count": 34,
   "id": "6b376c6d-2137-44f8-ba8b-5387ca8f45e4",
   "metadata": {},
   "outputs": [],
   "source": [
    "# уберем лишнее\n",
    "df_learn = df.drop(['user_id', 'post_id'], axis=1)\n",
    "\n",
    "X = df_learn.drop('target', axis=1)\n",
    "y = df_learn['target']"
   ]
  },
  {
   "cell_type": "code",
   "execution_count": 35,
   "id": "7b624353-488f-417c-ad9d-140279f6f36d",
   "metadata": {
    "tags": []
   },
   "outputs": [],
   "source": [
    "### Делим выборку на train и test\n",
    "\n",
    "from sklearn.model_selection import train_test_split\n",
    "from sklearn.metrics import classification_report, f1_score, roc_curve, auc\n",
    "\n",
    "X_train, X_test, y_train, y_test = train_test_split(X, y,\n",
    "                                                    random_state=0,\n",
    "                                                    shuffle=True,\n",
    "                                                    test_size=0.2)"
   ]
  },
  {
   "cell_type": "code",
   "execution_count": 36,
   "id": "7ada0b1c-5d2c-4bb9-bd34-8e6cd860117c",
   "metadata": {},
   "outputs": [
    {
     "data": {
      "text/html": [
       "<div>\n",
       "<style scoped>\n",
       "    .dataframe tbody tr th:only-of-type {\n",
       "        vertical-align: middle;\n",
       "    }\n",
       "\n",
       "    .dataframe tbody tr th {\n",
       "        vertical-align: top;\n",
       "    }\n",
       "\n",
       "    .dataframe thead th {\n",
       "        text-align: right;\n",
       "    }\n",
       "</style>\n",
       "<table border=\"1\" class=\"dataframe\">\n",
       "  <thead>\n",
       "    <tr style=\"text-align: right;\">\n",
       "      <th></th>\n",
       "      <th>topic</th>\n",
       "      <th>idf_svd0</th>\n",
       "      <th>idf_svd1</th>\n",
       "      <th>idf_svd2</th>\n",
       "      <th>idf_svd3</th>\n",
       "      <th>idf_svd4</th>\n",
       "      <th>gender</th>\n",
       "      <th>age</th>\n",
       "      <th>country</th>\n",
       "      <th>city</th>\n",
       "      <th>exp_group</th>\n",
       "      <th>os</th>\n",
       "      <th>source</th>\n",
       "    </tr>\n",
       "  </thead>\n",
       "  <tbody>\n",
       "    <tr>\n",
       "      <th>1479071</th>\n",
       "      <td>entertainment</td>\n",
       "      <td>0.619500</td>\n",
       "      <td>-0.056086</td>\n",
       "      <td>-0.252435</td>\n",
       "      <td>-0.167565</td>\n",
       "      <td>0.051345</td>\n",
       "      <td>1</td>\n",
       "      <td>20</td>\n",
       "      <td>Russia</td>\n",
       "      <td>Chita</td>\n",
       "      <td>4</td>\n",
       "      <td>Android</td>\n",
       "      <td>ads</td>\n",
       "    </tr>\n",
       "    <tr>\n",
       "      <th>59650</th>\n",
       "      <td>sport</td>\n",
       "      <td>0.549701</td>\n",
       "      <td>-0.031583</td>\n",
       "      <td>0.038362</td>\n",
       "      <td>-0.157675</td>\n",
       "      <td>0.032571</td>\n",
       "      <td>0</td>\n",
       "      <td>21</td>\n",
       "      <td>Russia</td>\n",
       "      <td>Moscow</td>\n",
       "      <td>0</td>\n",
       "      <td>Android</td>\n",
       "      <td>organic</td>\n",
       "    </tr>\n",
       "  </tbody>\n",
       "</table>\n",
       "</div>"
      ],
      "text/plain": [
       "                 topic  idf_svd0  idf_svd1  idf_svd2  idf_svd3  idf_svd4  \\\n",
       "1479071  entertainment  0.619500 -0.056086 -0.252435 -0.167565  0.051345   \n",
       "59650            sport  0.549701 -0.031583  0.038362 -0.157675  0.032571   \n",
       "\n",
       "         gender  age country    city  exp_group       os   source  \n",
       "1479071       1   20  Russia   Chita          4  Android      ads  \n",
       "59650         0   21  Russia  Moscow          0  Android  organic  "
      ]
     },
     "execution_count": 36,
     "metadata": {},
     "output_type": "execute_result"
    }
   ],
   "source": [
    "X_train.head(2)"
   ]
  },
  {
   "cell_type": "code",
   "execution_count": 37,
   "id": "de40f369-143f-4ed7-8900-290822655d62",
   "metadata": {},
   "outputs": [
    {
     "data": {
      "text/plain": [
       "(1200000, 13)"
      ]
     },
     "execution_count": 37,
     "metadata": {},
     "output_type": "execute_result"
    }
   ],
   "source": [
    "X_train.shape"
   ]
  },
  {
   "cell_type": "code",
   "execution_count": 19,
   "id": "1edfb08c-cbaf-4899-ad15-b3c7705542e2",
   "metadata": {
    "tags": []
   },
   "outputs": [
    {
     "name": "stdout",
     "output_type": "stream",
     "text": [
      "0:\tlearn: 0.6861138\ttotal: 2.94s\tremaining: 24m 24s\n",
      "50:\tlearn: 0.6462403\ttotal: 1m 52s\tremaining: 16m 29s\n",
      "100:\tlearn: 0.6241162\ttotal: 4m 1s\tremaining: 15m 54s\n",
      "150:\tlearn: 0.5999053\ttotal: 6m 26s\tremaining: 14m 53s\n",
      "200:\tlearn: 0.5781627\ttotal: 8m 46s\tremaining: 13m 2s\n",
      "250:\tlearn: 0.5579794\ttotal: 11m 7s\tremaining: 11m 2s\n",
      "300:\tlearn: 0.5387207\ttotal: 13m 20s\tremaining: 8m 49s\n",
      "350:\tlearn: 0.5206320\ttotal: 15m 40s\tremaining: 6m 39s\n",
      "400:\tlearn: 0.5045636\ttotal: 18m 1s\tremaining: 4m 27s\n",
      "450:\tlearn: 0.4911308\ttotal: 20m 20s\tremaining: 2m 12s\n",
      "499:\tlearn: 0.4764763\ttotal: 22m 39s\tremaining: 0us\n"
     ]
    },
    {
     "data": {
      "text/plain": [
       "1374.9825041294098"
      ]
     },
     "execution_count": 19,
     "metadata": {},
     "output_type": "execute_result"
    }
   ],
   "source": [
    "from catboost import CatBoostClassifier\n",
    "\n",
    "# Выделяем колонки, которые передадим в catboost как категориальные\n",
    "cat_cols = ['topic', 'country', 'city', 'os', 'source']\n",
    "\n",
    "catboost = CatBoostClassifier(verbose=50)\n",
    "\n",
    "# Параметры, определенные в ходе длительных экспериментов с GreedSearchCV\n",
    "catboost.set_params(depth=12, learning_rate=0.18, auto_class_weights='Balanced',\n",
    "                    iterations=500, border_count=200, l2_leaf_reg=3)\n",
    "\n",
    "start = time.time()\n",
    "\n",
    "catboost.fit(X_train, y_train, cat_features=cat_cols)\n",
    "\n",
    "time.time() - start\n",
    "\n",
    "# ~23m -- X_train 1 200 000, 13 -- 15e5 fds -- w/o blns -- wth idf"
   ]
  },
  {
   "cell_type": "code",
   "execution_count": 20,
   "id": "6185e349-8a6d-456a-ae0c-01ff31950648",
   "metadata": {},
   "outputs": [
    {
     "data": {
      "text/plain": [
       "0.7244684552274631"
      ]
     },
     "execution_count": 20,
     "metadata": {},
     "output_type": "execute_result"
    }
   ],
   "source": [
    "# Подсчет F1-меры c использованием параметра average='weighted'\n",
    "f1_score(y_test, catboost.predict(X_test), average='weighted')"
   ]
  },
  {
   "cell_type": "code",
   "execution_count": 21,
   "id": "01788cbc-06a1-4b7d-8fb9-98744b82dc62",
   "metadata": {},
   "outputs": [
    {
     "name": "stdout",
     "output_type": "stream",
     "text": [
      "              precision    recall  f1-score   support\n",
      "\n",
      "           0      0.918     0.683     0.783    268001\n",
      "           1      0.155     0.486     0.235     31999\n",
      "\n",
      "    accuracy                          0.662    300000\n",
      "   macro avg      0.536     0.585     0.509    300000\n",
      "weighted avg      0.836     0.662     0.724    300000\n",
      "\n"
     ]
    }
   ],
   "source": [
    "# смотрим метрики\n",
    "print(classification_report(y_test, catboost.predict(X_test), digits = 3))"
   ]
  },
  {
   "cell_type": "code",
   "execution_count": 23,
   "id": "1dd7bf6c-8533-48b2-a3c5-4287a323f5a8",
   "metadata": {},
   "outputs": [
    {
     "data": {
      "text/plain": [
       "<sklearn.metrics._plot.roc_curve.RocCurveDisplay at 0x7ff68ed6dac0>"
      ]
     },
     "execution_count": 23,
     "metadata": {},
     "output_type": "execute_result"
    },
    {
     "data": {
      "image/png": "[encoded data removed]",
      "text/plain": [
       "<Figure size 432x288 with 1 Axes>"
      ]
     },
     "metadata": {
      "needs_background": "light"
     },
     "output_type": "display_data"
    }
   ],
   "source": [
    "# строим RocCurve\n",
    "from sklearn.metrics import RocCurveDisplay\n",
    "\n",
    "fpr, tpr, thresholds = roc_curve(y_test, catboost.predict_proba(X_test)[:, 1])\n",
    "RocCurveDisplay(fpr=fpr, tpr=tpr).plot()"
   ]
  },
  {
   "cell_type": "code",
   "execution_count": 24,
   "id": "654b9f30-8cc7-4e06-b6dc-dd936f892aa1",
   "metadata": {},
   "outputs": [
    {
     "data": {
      "text/plain": [
       "0.627"
      ]
     },
     "execution_count": 24,
     "metadata": {},
     "output_type": "execute_result"
    }
   ],
   "source": [
    "# считаем auc\n",
    "round(auc(fpr, tpr), 3)"
   ]
  },
  {
   "cell_type": "code",
   "execution_count": 25,
   "id": "26241cd3-35fa-47c8-8aff-c9e5b4a50be8",
   "metadata": {},
   "outputs": [
    {
     "data": {
      "text/html": [
       "<div>\n",
       "<style scoped>\n",
       "    .dataframe tbody tr th:only-of-type {\n",
       "        vertical-align: middle;\n",
       "    }\n",
       "\n",
       "    .dataframe tbody tr th {\n",
       "        vertical-align: top;\n",
       "    }\n",
       "\n",
       "    .dataframe thead th {\n",
       "        text-align: right;\n",
       "    }\n",
       "</style>\n",
       "<table border=\"1\" class=\"dataframe\">\n",
       "  <thead>\n",
       "    <tr style=\"text-align: right;\">\n",
       "      <th></th>\n",
       "      <th>Feature Id</th>\n",
       "      <th>Importances</th>\n",
       "    </tr>\n",
       "  </thead>\n",
       "  <tbody>\n",
       "    <tr>\n",
       "      <th>0</th>\n",
       "      <td>city</td>\n",
       "      <td>12.912971</td>\n",
       "    </tr>\n",
       "    <tr>\n",
       "      <th>1</th>\n",
       "      <td>age</td>\n",
       "      <td>11.522032</td>\n",
       "    </tr>\n",
       "    <tr>\n",
       "      <th>2</th>\n",
       "      <td>idf_svd2</td>\n",
       "      <td>9.818033</td>\n",
       "    </tr>\n",
       "    <tr>\n",
       "      <th>3</th>\n",
       "      <td>idf_svd3</td>\n",
       "      <td>9.124841</td>\n",
       "    </tr>\n",
       "    <tr>\n",
       "      <th>4</th>\n",
       "      <td>exp_group</td>\n",
       "      <td>9.002440</td>\n",
       "    </tr>\n",
       "    <tr>\n",
       "      <th>5</th>\n",
       "      <td>idf_svd1</td>\n",
       "      <td>8.855447</td>\n",
       "    </tr>\n",
       "    <tr>\n",
       "      <th>6</th>\n",
       "      <td>idf_svd0</td>\n",
       "      <td>8.513844</td>\n",
       "    </tr>\n",
       "    <tr>\n",
       "      <th>7</th>\n",
       "      <td>idf_svd4</td>\n",
       "      <td>7.685789</td>\n",
       "    </tr>\n",
       "    <tr>\n",
       "      <th>8</th>\n",
       "      <td>topic</td>\n",
       "      <td>5.636066</td>\n",
       "    </tr>\n",
       "    <tr>\n",
       "      <th>9</th>\n",
       "      <td>gender</td>\n",
       "      <td>5.620414</td>\n",
       "    </tr>\n",
       "    <tr>\n",
       "      <th>10</th>\n",
       "      <td>source</td>\n",
       "      <td>4.993669</td>\n",
       "    </tr>\n",
       "    <tr>\n",
       "      <th>11</th>\n",
       "      <td>os</td>\n",
       "      <td>4.758140</td>\n",
       "    </tr>\n",
       "    <tr>\n",
       "      <th>12</th>\n",
       "      <td>country</td>\n",
       "      <td>1.556315</td>\n",
       "    </tr>\n",
       "  </tbody>\n",
       "</table>\n",
       "</div>"
      ],
      "text/plain": [
       "   Feature Id  Importances\n",
       "0        city    12.912971\n",
       "1         age    11.522032\n",
       "2    idf_svd2     9.818033\n",
       "3    idf_svd3     9.124841\n",
       "4   exp_group     9.002440\n",
       "5    idf_svd1     8.855447\n",
       "6    idf_svd0     8.513844\n",
       "7    idf_svd4     7.685789\n",
       "8       topic     5.636066\n",
       "9      gender     5.620414\n",
       "10     source     4.993669\n",
       "11         os     4.758140\n",
       "12    country     1.556315"
      ]
     },
     "execution_count": 25,
     "metadata": {},
     "output_type": "execute_result"
    }
   ],
   "source": [
    "# смотрим признаки, наиболее повлиявшие на качество\n",
    "catboost.get_feature_importance(prettified=True)"
   ]
  },
  {
   "cell_type": "markdown",
   "id": "b5ccc923-6c73-4e94-81a7-d2dfe06d72a4",
   "metadata": {},
   "source": [
    "(!) Признаки, полученные из текстов, имеют высокое влияние даже после драматического понижения размерности."
   ]
  },
  {
   "cell_type": "code",
   "execution_count": 26,
   "id": "31b81efd-f383-4632-90c9-cc19d5df2613",
   "metadata": {},
   "outputs": [],
   "source": [
    "# Запись модели в файл\n",
    "\n",
    "catboost.save_model('model_catboost')"
   ]
  },
  {
   "cell_type": "markdown",
   "id": "9df33455-7b83-4f9a-8928-d824baed0546",
   "metadata": {},
   "source": [
    "### Тестовое применение обученной модели для выдачи рекомендаций пользователю"
   ]
  },
  {
   "cell_type": "markdown",
   "id": "6f49a6db-810f-4b58-8525-ef9b7bdb572d",
   "metadata": {},
   "source": [
    "Делаем рекомендацию по user_id:"
   ]
  },
  {
   "cell_type": "code",
   "execution_count": 38,
   "id": "0e0f2d38-a69e-495b-b9f7-72f471fa6b17",
   "metadata": {},
   "outputs": [],
   "source": [
    "# делаем рекомендацию на произвольном user_id\n",
    "get_user_id = 201"
   ]
  },
  {
   "cell_type": "markdown",
   "id": "11cf3115-4d65-4745-a55d-5ae6f7fa5907",
   "metadata": {},
   "source": [
    "Данные выбранного user_id:"
   ]
  },
  {
   "cell_type": "code",
   "execution_count": 39,
   "id": "9f2e1ad6-48e9-4e49-8c3f-25263d67d629",
   "metadata": {},
   "outputs": [
    {
     "data": {
      "text/html": [
       "<div>\n",
       "<style scoped>\n",
       "    .dataframe tbody tr th:only-of-type {\n",
       "        vertical-align: middle;\n",
       "    }\n",
       "\n",
       "    .dataframe tbody tr th {\n",
       "        vertical-align: top;\n",
       "    }\n",
       "\n",
       "    .dataframe thead th {\n",
       "        text-align: right;\n",
       "    }\n",
       "</style>\n",
       "<table border=\"1\" class=\"dataframe\">\n",
       "  <thead>\n",
       "    <tr style=\"text-align: right;\">\n",
       "      <th></th>\n",
       "      <th>gender</th>\n",
       "      <th>age</th>\n",
       "      <th>country</th>\n",
       "      <th>city</th>\n",
       "      <th>exp_group</th>\n",
       "      <th>os</th>\n",
       "      <th>source</th>\n",
       "    </tr>\n",
       "  </thead>\n",
       "  <tbody>\n",
       "    <tr>\n",
       "      <th>1</th>\n",
       "      <td>0</td>\n",
       "      <td>37</td>\n",
       "      <td>Russia</td>\n",
       "      <td>Abakan</td>\n",
       "      <td>0</td>\n",
       "      <td>Android</td>\n",
       "      <td>ads</td>\n",
       "    </tr>\n",
       "  </tbody>\n",
       "</table>\n",
       "</div>"
      ],
      "text/plain": [
       "   gender  age country    city  exp_group       os source\n",
       "1       0   37  Russia  Abakan          0  Android    ads"
      ]
     },
     "execution_count": 39,
     "metadata": {},
     "output_type": "execute_result"
    }
   ],
   "source": [
    "user_cols = ['gender', 'age', 'country', 'city', 'exp_group', 'os', 'source']\n",
    "cur_user_data = df_users[df_users['user_id'] == get_user_id]\n",
    "cur_user_data = cur_user_data.drop('user_id', axis=1)\n",
    "cur_user_data"
   ]
  },
  {
   "cell_type": "markdown",
   "id": "1e4862e3-113e-4542-b355-0d85d5fc1bde",
   "metadata": {},
   "source": [
    "Собираем фрейм под заданного юзера:"
   ]
  },
  {
   "cell_type": "code",
   "execution_count": 42,
   "id": "401cd123-51a0-4c3f-b720-a02bf2ede159",
   "metadata": {},
   "outputs": [
    {
     "data": {
      "text/html": [
       "<div>\n",
       "<style scoped>\n",
       "    .dataframe tbody tr th:only-of-type {\n",
       "        vertical-align: middle;\n",
       "    }\n",
       "\n",
       "    .dataframe tbody tr th {\n",
       "        vertical-align: top;\n",
       "    }\n",
       "\n",
       "    .dataframe thead th {\n",
       "        text-align: right;\n",
       "    }\n",
       "</style>\n",
       "<table border=\"1\" class=\"dataframe\">\n",
       "  <thead>\n",
       "    <tr style=\"text-align: right;\">\n",
       "      <th></th>\n",
       "      <th>post_id</th>\n",
       "      <th>text</th>\n",
       "      <th>topic</th>\n",
       "      <th>idf_svd0</th>\n",
       "      <th>idf_svd1</th>\n",
       "      <th>idf_svd2</th>\n",
       "      <th>idf_svd3</th>\n",
       "      <th>idf_svd4</th>\n",
       "      <th>gender</th>\n",
       "      <th>age</th>\n",
       "      <th>country</th>\n",
       "      <th>city</th>\n",
       "      <th>exp_group</th>\n",
       "      <th>os</th>\n",
       "      <th>source</th>\n",
       "    </tr>\n",
       "  </thead>\n",
       "  <tbody>\n",
       "    <tr>\n",
       "      <th>0</th>\n",
       "      <td>1</td>\n",
       "      <td>UK economy facing major risks\\n\\nThe UK manufa...</td>\n",
       "      <td>business</td>\n",
       "      <td>0.664357</td>\n",
       "      <td>-0.059180</td>\n",
       "      <td>-0.290901</td>\n",
       "      <td>0.113198</td>\n",
       "      <td>-0.028977</td>\n",
       "      <td>0</td>\n",
       "      <td>37</td>\n",
       "      <td>Russia</td>\n",
       "      <td>Abakan</td>\n",
       "      <td>0</td>\n",
       "      <td>Android</td>\n",
       "      <td>ads</td>\n",
       "    </tr>\n",
       "    <tr>\n",
       "      <th>1</th>\n",
       "      <td>2</td>\n",
       "      <td>Aids and climate top Davos agenda\\n\\nClimate c...</td>\n",
       "      <td>business</td>\n",
       "      <td>0.680325</td>\n",
       "      <td>-0.041336</td>\n",
       "      <td>-0.306858</td>\n",
       "      <td>-0.006451</td>\n",
       "      <td>-0.005135</td>\n",
       "      <td>0</td>\n",
       "      <td>37</td>\n",
       "      <td>Russia</td>\n",
       "      <td>Abakan</td>\n",
       "      <td>0</td>\n",
       "      <td>Android</td>\n",
       "      <td>ads</td>\n",
       "    </tr>\n",
       "  </tbody>\n",
       "</table>\n",
       "</div>"
      ],
      "text/plain": [
       "   post_id                                               text     topic  \\\n",
       "0        1  UK economy facing major risks\\n\\nThe UK manufa...  business   \n",
       "1        2  Aids and climate top Davos agenda\\n\\nClimate c...  business   \n",
       "\n",
       "   idf_svd0  idf_svd1  idf_svd2  idf_svd3  idf_svd4  gender  age country  \\\n",
       "0  0.664357 -0.059180 -0.290901  0.113198 -0.028977       0   37  Russia   \n",
       "1  0.680325 -0.041336 -0.306858 -0.006451 -0.005135       0   37  Russia   \n",
       "\n",
       "     city  exp_group       os source  \n",
       "0  Abakan          0  Android    ads  \n",
       "1  Abakan          0  Android    ads  "
      ]
     },
     "execution_count": 42,
     "metadata": {},
     "output_type": "execute_result"
    }
   ],
   "source": [
    "temp_df = pd.DataFrame()\n",
    "specific_df = df_posts\n",
    "# # при получении готовых признаков из базы:\n",
    "# specific_df = df_posts_from_sql\n",
    "\n",
    "# добавляем во фрейм для предсказания данные выбранного пользователя\n",
    "for col in user_cols:\n",
    "    specific_df[col] = cur_user_data[col].values[0]\n",
    "\n",
    "specific_df.head(2)\n",
    "# topic gender age country city exp_group os source"
   ]
  },
  {
   "cell_type": "code",
   "execution_count": 43,
   "id": "48faf1e6-d117-4182-8dc9-aabd9f1dae39",
   "metadata": {},
   "outputs": [
    {
     "data": {
      "text/plain": [
       "(7023, 15)"
      ]
     },
     "execution_count": 43,
     "metadata": {},
     "output_type": "execute_result"
    }
   ],
   "source": [
    "specific_df.shape"
   ]
  },
  {
   "cell_type": "code",
   "execution_count": 44,
   "id": "dd967c12-dd57-495f-b4a7-5b16431f3c45",
   "metadata": {},
   "outputs": [
    {
     "data": {
      "text/html": [
       "<div>\n",
       "<style scoped>\n",
       "    .dataframe tbody tr th:only-of-type {\n",
       "        vertical-align: middle;\n",
       "    }\n",
       "\n",
       "    .dataframe tbody tr th {\n",
       "        vertical-align: top;\n",
       "    }\n",
       "\n",
       "    .dataframe thead th {\n",
       "        text-align: right;\n",
       "    }\n",
       "</style>\n",
       "<table border=\"1\" class=\"dataframe\">\n",
       "  <thead>\n",
       "    <tr style=\"text-align: right;\">\n",
       "      <th></th>\n",
       "      <th>topic</th>\n",
       "      <th>idf_svd0</th>\n",
       "      <th>idf_svd1</th>\n",
       "      <th>idf_svd2</th>\n",
       "      <th>idf_svd3</th>\n",
       "      <th>idf_svd4</th>\n",
       "      <th>gender</th>\n",
       "      <th>age</th>\n",
       "      <th>country</th>\n",
       "      <th>city</th>\n",
       "      <th>exp_group</th>\n",
       "      <th>os</th>\n",
       "      <th>source</th>\n",
       "    </tr>\n",
       "  </thead>\n",
       "  <tbody>\n",
       "    <tr>\n",
       "      <th>0</th>\n",
       "      <td>business</td>\n",
       "      <td>0.664357</td>\n",
       "      <td>-0.059180</td>\n",
       "      <td>-0.290901</td>\n",
       "      <td>0.113198</td>\n",
       "      <td>-0.028977</td>\n",
       "      <td>0</td>\n",
       "      <td>37</td>\n",
       "      <td>Russia</td>\n",
       "      <td>Abakan</td>\n",
       "      <td>0</td>\n",
       "      <td>Android</td>\n",
       "      <td>ads</td>\n",
       "    </tr>\n",
       "    <tr>\n",
       "      <th>1</th>\n",
       "      <td>business</td>\n",
       "      <td>0.680325</td>\n",
       "      <td>-0.041336</td>\n",
       "      <td>-0.306858</td>\n",
       "      <td>-0.006451</td>\n",
       "      <td>-0.005135</td>\n",
       "      <td>0</td>\n",
       "      <td>37</td>\n",
       "      <td>Russia</td>\n",
       "      <td>Abakan</td>\n",
       "      <td>0</td>\n",
       "      <td>Android</td>\n",
       "      <td>ads</td>\n",
       "    </tr>\n",
       "  </tbody>\n",
       "</table>\n",
       "</div>"
      ],
      "text/plain": [
       "      topic  idf_svd0  idf_svd1  idf_svd2  idf_svd3  idf_svd4  gender  age  \\\n",
       "0  business  0.664357 -0.059180 -0.290901  0.113198 -0.028977       0   37   \n",
       "1  business  0.680325 -0.041336 -0.306858 -0.006451 -0.005135       0   37   \n",
       "\n",
       "  country    city  exp_group       os source  \n",
       "0  Russia  Abakan          0  Android    ads  \n",
       "1  Russia  Abakan          0  Android    ads  "
      ]
     },
     "execution_count": 44,
     "metadata": {},
     "output_type": "execute_result"
    }
   ],
   "source": [
    "# уберем post_id и text для предсказания\n",
    "df_for_predict = specific_df.drop(['post_id', 'text'], axis=1)\n",
    "df_for_predict.head(2)"
   ]
  },
  {
   "cell_type": "code",
   "execution_count": 46,
   "id": "143d4a66-8a27-4887-9883-c1cb50fd589a",
   "metadata": {},
   "outputs": [
    {
     "data": {
      "text/plain": [
       "<catboost.core.CatBoostClassifier at 0x7fa994c55a60>"
      ]
     },
     "execution_count": 46,
     "metadata": {},
     "output_type": "execute_result"
    }
   ],
   "source": [
    "# При загрузке уже обученной модели:\n",
    "from catboost import CatBoostClassifier\n",
    "\n",
    "model_from_file = CatBoostClassifier()\n",
    "model_from_file.load_model(\"model_catboost\")"
   ]
  },
  {
   "cell_type": "code",
   "execution_count": 47,
   "id": "6ae868f8-3312-4d22-bee7-61040455b52b",
   "metadata": {},
   "outputs": [],
   "source": [
    "# делаем предсказание\n",
    "# pred = catboost.predict_proba(df_for_predict)\n",
    "pred = model_from_file.predict_proba(df_for_predict)"
   ]
  },
  {
   "cell_type": "code",
   "execution_count": 48,
   "id": "66ab5813-fb0a-4863-b3b4-bcf84a880f36",
   "metadata": {},
   "outputs": [],
   "source": [
    "# получаем вероятности для сформированного фрейма\n",
    "# и добавляем их в новую колонку\n",
    "specific_df['pred'] = pred[:,1]"
   ]
  },
  {
   "cell_type": "code",
   "execution_count": 49,
   "id": "2e8c06d9-78ac-4f93-ba72-6b8bb1f718c8",
   "metadata": {
    "tags": []
   },
   "outputs": [
    {
     "data": {
      "text/plain": [
       "(7023, 16)"
      ]
     },
     "execution_count": 49,
     "metadata": {},
     "output_type": "execute_result"
    }
   ],
   "source": [
    "specific_df.shape\n",
    "\n",
    "# 7023, 11 -- 0901-18:10 -- 10 fds -- w/o balanse -- w/o idf -- X_train 1 305 640, 8\n",
    "# 7023, 16"
   ]
  },
  {
   "cell_type": "code",
   "execution_count": 50,
   "id": "cf91c193-9025-48cc-b9ff-6d470ffc1ed1",
   "metadata": {},
   "outputs": [
    {
     "data": {
      "text/html": [
       "<div>\n",
       "<style scoped>\n",
       "    .dataframe tbody tr th:only-of-type {\n",
       "        vertical-align: middle;\n",
       "    }\n",
       "\n",
       "    .dataframe tbody tr th {\n",
       "        vertical-align: top;\n",
       "    }\n",
       "\n",
       "    .dataframe thead th {\n",
       "        text-align: right;\n",
       "    }\n",
       "</style>\n",
       "<table border=\"1\" class=\"dataframe\">\n",
       "  <thead>\n",
       "    <tr style=\"text-align: right;\">\n",
       "      <th></th>\n",
       "      <th>post_id</th>\n",
       "      <th>text</th>\n",
       "      <th>topic</th>\n",
       "      <th>idf_svd0</th>\n",
       "      <th>idf_svd1</th>\n",
       "      <th>idf_svd2</th>\n",
       "      <th>idf_svd3</th>\n",
       "      <th>idf_svd4</th>\n",
       "      <th>gender</th>\n",
       "      <th>age</th>\n",
       "      <th>country</th>\n",
       "      <th>city</th>\n",
       "      <th>exp_group</th>\n",
       "      <th>os</th>\n",
       "      <th>source</th>\n",
       "      <th>pred</th>\n",
       "    </tr>\n",
       "  </thead>\n",
       "  <tbody>\n",
       "    <tr>\n",
       "      <th>0</th>\n",
       "      <td>1</td>\n",
       "      <td>UK economy facing major risks\\n\\nThe UK manufa...</td>\n",
       "      <td>business</td>\n",
       "      <td>0.664357</td>\n",
       "      <td>-0.059180</td>\n",
       "      <td>-0.290901</td>\n",
       "      <td>0.113198</td>\n",
       "      <td>-0.028977</td>\n",
       "      <td>0</td>\n",
       "      <td>37</td>\n",
       "      <td>Russia</td>\n",
       "      <td>Abakan</td>\n",
       "      <td>0</td>\n",
       "      <td>Android</td>\n",
       "      <td>ads</td>\n",
       "      <td>0.379555</td>\n",
       "    </tr>\n",
       "    <tr>\n",
       "      <th>1</th>\n",
       "      <td>2</td>\n",
       "      <td>Aids and climate top Davos agenda\\n\\nClimate c...</td>\n",
       "      <td>business</td>\n",
       "      <td>0.680325</td>\n",
       "      <td>-0.041336</td>\n",
       "      <td>-0.306858</td>\n",
       "      <td>-0.006451</td>\n",
       "      <td>-0.005135</td>\n",
       "      <td>0</td>\n",
       "      <td>37</td>\n",
       "      <td>Russia</td>\n",
       "      <td>Abakan</td>\n",
       "      <td>0</td>\n",
       "      <td>Android</td>\n",
       "      <td>ads</td>\n",
       "      <td>0.408600</td>\n",
       "    </tr>\n",
       "  </tbody>\n",
       "</table>\n",
       "</div>"
      ],
      "text/plain": [
       "   post_id                                               text     topic  \\\n",
       "0        1  UK economy facing major risks\\n\\nThe UK manufa...  business   \n",
       "1        2  Aids and climate top Davos agenda\\n\\nClimate c...  business   \n",
       "\n",
       "   idf_svd0  idf_svd1  idf_svd2  idf_svd3  idf_svd4  gender  age country  \\\n",
       "0  0.664357 -0.059180 -0.290901  0.113198 -0.028977       0   37  Russia   \n",
       "1  0.680325 -0.041336 -0.306858 -0.006451 -0.005135       0   37  Russia   \n",
       "\n",
       "     city  exp_group       os source      pred  \n",
       "0  Abakan          0  Android    ads  0.379555  \n",
       "1  Abakan          0  Android    ads  0.408600  "
      ]
     },
     "execution_count": 50,
     "metadata": {},
     "output_type": "execute_result"
    }
   ],
   "source": [
    "specific_df.head(2)"
   ]
  },
  {
   "cell_type": "markdown",
   "id": "aadb2b6f-e9f9-430b-8078-7b5d96555078",
   "metadata": {},
   "source": [
    "**Получаем топ-5 рекомендаций:**"
   ]
  },
  {
   "cell_type": "code",
   "execution_count": 51,
   "id": "27685365-4139-41d1-87c7-755cbdec2633",
   "metadata": {},
   "outputs": [],
   "source": [
    "top_5 = specific_df.sort_values(by='pred', ascending=False).head(5)"
   ]
  },
  {
   "cell_type": "code",
   "execution_count": 52,
   "id": "c752709a-9cf1-42b9-99e5-600d3e37c90f",
   "metadata": {},
   "outputs": [
    {
     "data": {
      "text/html": [
       "<div>\n",
       "<style scoped>\n",
       "    .dataframe tbody tr th:only-of-type {\n",
       "        vertical-align: middle;\n",
       "    }\n",
       "\n",
       "    .dataframe tbody tr th {\n",
       "        vertical-align: top;\n",
       "    }\n",
       "\n",
       "    .dataframe thead th {\n",
       "        text-align: right;\n",
       "    }\n",
       "</style>\n",
       "<table border=\"1\" class=\"dataframe\">\n",
       "  <thead>\n",
       "    <tr style=\"text-align: right;\">\n",
       "      <th></th>\n",
       "      <th>post_id</th>\n",
       "      <th>text</th>\n",
       "      <th>topic</th>\n",
       "      <th>idf_svd0</th>\n",
       "      <th>idf_svd1</th>\n",
       "      <th>idf_svd2</th>\n",
       "      <th>idf_svd3</th>\n",
       "      <th>idf_svd4</th>\n",
       "      <th>gender</th>\n",
       "      <th>age</th>\n",
       "      <th>country</th>\n",
       "      <th>city</th>\n",
       "      <th>exp_group</th>\n",
       "      <th>os</th>\n",
       "      <th>source</th>\n",
       "      <th>pred</th>\n",
       "    </tr>\n",
       "  </thead>\n",
       "  <tbody>\n",
       "    <tr>\n",
       "      <th>4121</th>\n",
       "      <td>4301</td>\n",
       "      <td>200l: A Space Odyssey is a supremely intriguin...</td>\n",
       "      <td>movie</td>\n",
       "      <td>0.819885</td>\n",
       "      <td>-0.081811</td>\n",
       "      <td>-0.058366</td>\n",
       "      <td>0.288444</td>\n",
       "      <td>-0.077132</td>\n",
       "      <td>0</td>\n",
       "      <td>37</td>\n",
       "      <td>Russia</td>\n",
       "      <td>Abakan</td>\n",
       "      <td>0</td>\n",
       "      <td>Android</td>\n",
       "      <td>ads</td>\n",
       "      <td>0.804605</td>\n",
       "    </tr>\n",
       "    <tr>\n",
       "      <th>569</th>\n",
       "      <td>501</td>\n",
       "      <td>HealthSouth ex-boss goes on trial\\n\\nThe forme...</td>\n",
       "      <td>business</td>\n",
       "      <td>0.650932</td>\n",
       "      <td>-0.024968</td>\n",
       "      <td>-0.281667</td>\n",
       "      <td>-0.104592</td>\n",
       "      <td>0.011347</td>\n",
       "      <td>0</td>\n",
       "      <td>37</td>\n",
       "      <td>Russia</td>\n",
       "      <td>Abakan</td>\n",
       "      <td>0</td>\n",
       "      <td>Android</td>\n",
       "      <td>ads</td>\n",
       "      <td>0.775332</td>\n",
       "    </tr>\n",
       "    <tr>\n",
       "      <th>3073</th>\n",
       "      <td>3209</td>\n",
       "      <td>India reported 48,661 new #COVID19 positive ca...</td>\n",
       "      <td>covid</td>\n",
       "      <td>0.249333</td>\n",
       "      <td>0.713150</td>\n",
       "      <td>-0.110362</td>\n",
       "      <td>0.158846</td>\n",
       "      <td>0.142203</td>\n",
       "      <td>0</td>\n",
       "      <td>37</td>\n",
       "      <td>Russia</td>\n",
       "      <td>Abakan</td>\n",
       "      <td>0</td>\n",
       "      <td>Android</td>\n",
       "      <td>ads</td>\n",
       "      <td>0.757004</td>\n",
       "    </tr>\n",
       "    <tr>\n",
       "      <th>6312</th>\n",
       "      <td>6574</td>\n",
       "      <td>Bravestarr was released in 1987 by the now def...</td>\n",
       "      <td>movie</td>\n",
       "      <td>0.821616</td>\n",
       "      <td>-0.083590</td>\n",
       "      <td>-0.026574</td>\n",
       "      <td>0.159508</td>\n",
       "      <td>-0.032504</td>\n",
       "      <td>0</td>\n",
       "      <td>37</td>\n",
       "      <td>Russia</td>\n",
       "      <td>Abakan</td>\n",
       "      <td>0</td>\n",
       "      <td>Android</td>\n",
       "      <td>ads</td>\n",
       "      <td>0.743060</td>\n",
       "    </tr>\n",
       "    <tr>\n",
       "      <th>1146</th>\n",
       "      <td>2564</td>\n",
       "      <td>$HGEN Humanigen, Inc. (HGEN) Expands Phase III...</td>\n",
       "      <td>covid</td>\n",
       "      <td>0.209837</td>\n",
       "      <td>0.824477</td>\n",
       "      <td>-0.021816</td>\n",
       "      <td>-0.104762</td>\n",
       "      <td>-0.440188</td>\n",
       "      <td>0</td>\n",
       "      <td>37</td>\n",
       "      <td>Russia</td>\n",
       "      <td>Abakan</td>\n",
       "      <td>0</td>\n",
       "      <td>Android</td>\n",
       "      <td>ads</td>\n",
       "      <td>0.738973</td>\n",
       "    </tr>\n",
       "  </tbody>\n",
       "</table>\n",
       "</div>"
      ],
      "text/plain": [
       "      post_id                                               text     topic  \\\n",
       "4121     4301  200l: A Space Odyssey is a supremely intriguin...     movie   \n",
       "569       501  HealthSouth ex-boss goes on trial\\n\\nThe forme...  business   \n",
       "3073     3209  India reported 48,661 new #COVID19 positive ca...     covid   \n",
       "6312     6574  Bravestarr was released in 1987 by the now def...     movie   \n",
       "1146     2564  $HGEN Humanigen, Inc. (HGEN) Expands Phase III...     covid   \n",
       "\n",
       "      idf_svd0  idf_svd1  idf_svd2  idf_svd3  idf_svd4  gender  age country  \\\n",
       "4121  0.819885 -0.081811 -0.058366  0.288444 -0.077132       0   37  Russia   \n",
       "569   0.650932 -0.024968 -0.281667 -0.104592  0.011347       0   37  Russia   \n",
       "3073  0.249333  0.713150 -0.110362  0.158846  0.142203       0   37  Russia   \n",
       "6312  0.821616 -0.083590 -0.026574  0.159508 -0.032504       0   37  Russia   \n",
       "1146  0.209837  0.824477 -0.021816 -0.104762 -0.440188       0   37  Russia   \n",
       "\n",
       "        city  exp_group       os source      pred  \n",
       "4121  Abakan          0  Android    ads  0.804605  \n",
       "569   Abakan          0  Android    ads  0.775332  \n",
       "3073  Abakan          0  Android    ads  0.757004  \n",
       "6312  Abakan          0  Android    ads  0.743060  \n",
       "1146  Abakan          0  Android    ads  0.738973  "
      ]
     },
     "execution_count": 52,
     "metadata": {},
     "output_type": "execute_result"
    }
   ],
   "source": [
    "top_5"
   ]
  }
 ],
 "metadata": {
  "kernelspec": {
   "display_name": "Python 3 (ipykernel)",
   "language": "python",
   "name": "python3"
  },
  "language_info": {
   "codemirror_mode": {
    "name": "ipython",
    "version": 3
   },
   "file_extension": ".py",
   "mimetype": "text/x-python",
   "name": "python",
   "nbconvert_exporter": "python",
   "pygments_lexer": "ipython3",
   "version": "3.8.10"
  }
 },
 "nbformat": 4,
 "nbformat_minor": 5
}
